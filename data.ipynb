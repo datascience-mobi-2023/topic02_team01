{
 "cells": [
  {
   "cell_type": "code",
   "execution_count": 1,
   "metadata": {},
   "outputs": [],
   "source": [
    "import pandas as pd \n",
    "import numpy as np\n",
    "import statistics as st"
   ]
  },
  {
   "cell_type": "code",
   "execution_count": 3,
   "metadata": {},
   "outputs": [],
   "source": [
    "deng = pd.read_csv(r\"C:\\Users\\sveam\\Documents\\MOBI 23\\Bioinfo\\BLAT_ECOLX_Deng_2012 Kopie.csv\", delimiter = ';')\n",
    "firnberg =pd.read_csv(r\"C:\\Users\\sveam\\Documents\\MOBI 23\\Bioinfo\\BLAT_ECOLX_Firnberg_2014 Kopie.csv\",delimiter = ';')\n",
    "stiffler= pd.read_csv(r\"C:\\Users\\sveam\\Documents\\MOBI 23\\Bioinfo\\BLAT_ECOLX_Stiffler_2015.csv\",delimiter = ';')"
   ]
  },
  {
   "cell_type": "code",
   "execution_count": 4,
   "metadata": {},
   "outputs": [
    {
     "data": {
      "text/html": [
       "<div>\n",
       "<style scoped>\n",
       "    .dataframe tbody tr th:only-of-type {\n",
       "        vertical-align: middle;\n",
       "    }\n",
       "\n",
       "    .dataframe tbody tr th {\n",
       "        vertical-align: top;\n",
       "    }\n",
       "\n",
       "    .dataframe thead th {\n",
       "        text-align: right;\n",
       "    }\n",
       "</style>\n",
       "<table border=\"1\" class=\"dataframe\">\n",
       "  <thead>\n",
       "    <tr style=\"text-align: right;\">\n",
       "      <th></th>\n",
       "      <th>mutant</th>\n",
       "      <th>mutated_sequence</th>\n",
       "      <th>DMS_score</th>\n",
       "      <th>DMS_score_bin</th>\n",
       "    </tr>\n",
       "  </thead>\n",
       "  <tbody>\n",
       "    <tr>\n",
       "      <th>0</th>\n",
       "      <td>H24C</td>\n",
       "      <td>MSIQHFRVALIPFFAAFCLPVFACPETLVKVKDAEDQLGARVGYIE...</td>\n",
       "      <td>-3.924.478</td>\n",
       "      <td>0</td>\n",
       "    </tr>\n",
       "    <tr>\n",
       "      <th>1</th>\n",
       "      <td>H24Y</td>\n",
       "      <td>MSIQHFRVALIPFFAAFCLPVFAYPETLVKVKDAEDQLGARVGYIE...</td>\n",
       "      <td>-2.170.022</td>\n",
       "      <td>1</td>\n",
       "    </tr>\n",
       "    <tr>\n",
       "      <th>2</th>\n",
       "      <td>H24W</td>\n",
       "      <td>MSIQHFRVALIPFFAAFCLPVFAWPETLVKVKDAEDQLGARVGYIE...</td>\n",
       "      <td>-4.345.218</td>\n",
       "      <td>0</td>\n",
       "    </tr>\n",
       "    <tr>\n",
       "      <th>3</th>\n",
       "      <td>H24V</td>\n",
       "      <td>MSIQHFRVALIPFFAAFCLPVFAVPETLVKVKDAEDQLGARVGYIE...</td>\n",
       "      <td>-3.011.503</td>\n",
       "      <td>0</td>\n",
       "    </tr>\n",
       "    <tr>\n",
       "      <th>4</th>\n",
       "      <td>H24T</td>\n",
       "      <td>MSIQHFRVALIPFFAAFCLPVFATPETLVKVKDAEDQLGARVGYIE...</td>\n",
       "      <td>-1.565.248</td>\n",
       "      <td>1</td>\n",
       "    </tr>\n",
       "  </tbody>\n",
       "</table>\n",
       "</div>"
      ],
      "text/plain": [
       "  mutant                                   mutated_sequence   DMS_score  \\\n",
       "0   H24C  MSIQHFRVALIPFFAAFCLPVFACPETLVKVKDAEDQLGARVGYIE...  -3.924.478   \n",
       "1   H24Y  MSIQHFRVALIPFFAAFCLPVFAYPETLVKVKDAEDQLGARVGYIE...  -2.170.022   \n",
       "2   H24W  MSIQHFRVALIPFFAAFCLPVFAWPETLVKVKDAEDQLGARVGYIE...  -4.345.218   \n",
       "3   H24V  MSIQHFRVALIPFFAAFCLPVFAVPETLVKVKDAEDQLGARVGYIE...  -3.011.503   \n",
       "4   H24T  MSIQHFRVALIPFFAAFCLPVFATPETLVKVKDAEDQLGARVGYIE...  -1.565.248   \n",
       "\n",
       "   DMS_score_bin  \n",
       "0              0  \n",
       "1              1  \n",
       "2              0  \n",
       "3              0  \n",
       "4              1  "
      ]
     },
     "execution_count": 4,
     "metadata": {},
     "output_type": "execute_result"
    }
   ],
   "source": [
    "deng.head()"
   ]
  },
  {
   "cell_type": "code",
   "execution_count": 12,
   "metadata": {},
   "outputs": [
    {
     "data": {
      "text/plain": [
       "0    H24C\n",
       "1    H24Y\n",
       "2    H24W\n",
       "3    H24V\n",
       "4    H24T\n",
       "Name: mutant, dtype: object"
      ]
     },
     "execution_count": 12,
     "metadata": {},
     "output_type": "execute_result"
    }
   ],
   "source": [
    "deng_frame = pd.DataFrame(data=deng)\n",
    "Sortierung = deng_frame.iloc[0:len(deng_frame),0]\n",
    "Sortierung.head()\n"
   ]
  },
  {
   "cell_type": "code",
   "execution_count": 6,
   "metadata": {},
   "outputs": [
    {
     "name": "stderr",
     "output_type": "stream",
     "text": [
      "c:\\Users\\sveam\\anaconda3.2\\lib\\site-packages\\pandas\\core\\internals\\construction.py:568: VisibleDeprecationWarning: Creating an ndarray from ragged nested sequences (which is a list-or-tuple of lists-or-tuples-or ndarrays with different lengths or shapes) is deprecated. If you meant to do this, you must specify 'dtype=object' when creating the ndarray.\n",
      "  values = np.array([convert(v) for v in values])\n"
     ]
    },
    {
     "data": {
      "text/html": [
       "<div>\n",
       "<style scoped>\n",
       "    .dataframe tbody tr th:only-of-type {\n",
       "        vertical-align: middle;\n",
       "    }\n",
       "\n",
       "    .dataframe tbody tr th {\n",
       "        vertical-align: top;\n",
       "    }\n",
       "\n",
       "    .dataframe thead th {\n",
       "        text-align: right;\n",
       "    }\n",
       "</style>\n",
       "<table border=\"1\" class=\"dataframe\">\n",
       "  <thead>\n",
       "    <tr style=\"text-align: right;\">\n",
       "      <th></th>\n",
       "      <th>0</th>\n",
       "    </tr>\n",
       "  </thead>\n",
       "  <tbody>\n",
       "    <tr>\n",
       "      <th>0</th>\n",
       "      <td>mutant                                   ...</td>\n",
       "    </tr>\n",
       "    <tr>\n",
       "      <th>1</th>\n",
       "      <td>mutant                                   ...</td>\n",
       "    </tr>\n",
       "    <tr>\n",
       "      <th>2</th>\n",
       "      <td>mutant                                   ...</td>\n",
       "    </tr>\n",
       "  </tbody>\n",
       "</table>\n",
       "</div>"
      ],
      "text/plain": [
       "                                                   0\n",
       "0       mutant                                   ...\n",
       "1       mutant                                   ...\n",
       "2       mutant                                   ..."
      ]
     },
     "execution_count": 6,
     "metadata": {},
     "output_type": "execute_result"
    }
   ],
   "source": [
    "frame = pd.DataFrame( data = (deng, firnberg, stiffler))\n",
    "frame.head()"
   ]
  },
  {
   "cell_type": "code",
   "execution_count": null,
   "metadata": {},
   "outputs": [],
   "source": [
    "class DataRaw:\n",
    "    def __init__(self, name):\n",
    "        self.name = name\n",
    "        datalib = {}\n",
    "    def sorting(self):\n",
    "        for i in self:\n",
    "           datalib[self.name] = pd.DataFrame(data=self)\n",
    "             "
   ]
  },
  {
   "cell_type": "code",
   "execution_count": null,
   "metadata": {},
   "outputs": [],
   "source": []
  }
 ],
 "metadata": {
  "kernelspec": {
   "display_name": "base",
   "language": "python",
   "name": "python3"
  },
  "language_info": {
   "codemirror_mode": {
    "name": "ipython",
    "version": 3
   },
   "file_extension": ".py",
   "mimetype": "text/x-python",
   "name": "python",
   "nbconvert_exporter": "python",
   "pygments_lexer": "ipython3",
   "version": "3.10.9"
  },
  "orig_nbformat": 4
 },
 "nbformat": 4,
 "nbformat_minor": 2
}
