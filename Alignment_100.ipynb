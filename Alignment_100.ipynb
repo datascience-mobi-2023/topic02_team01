{
 "cells": [
  {
   "cell_type": "code",
   "execution_count": null,
   "metadata": {},
   "outputs": [],
   "source": []
  },
  {
   "attachments": {},
   "cell_type": "markdown",
   "metadata": {},
   "source": [
    "This method highlights highly conserved and less conserved amino acid positions based on the relative entropy threshold of the residue. Only alignment positions with no gaps will be colored. Red indicates highly conserved positions and blue indicates lower conservation.\n",
    "\n",
    "\n",
    "\n",
    "Hydropathy Scale\n",
    "This coloration method reflects side chain hydropathy, with very hydrophobic in red to very hydrophylic in blue, corrected for solvation as in https://www.ncbi.nlm.nih.gov/pubmed/3398047.\n",
    "\n",
    "Size\n",
    "The color from red to blue reflects the size of amino acid, with red representing smaller side-chains while blue represents larger side-chains"
   ]
  }
 ],
 "metadata": {
  "language_info": {
   "name": "python"
  },
  "orig_nbformat": 4
 },
 "nbformat": 4,
 "nbformat_minor": 2
}
