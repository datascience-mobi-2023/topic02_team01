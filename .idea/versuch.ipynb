{
 "cells": [
  {
   "cell_type": "code",
   "execution_count": 67,
   "metadata": {},
   "outputs": [],
   "source": [
    "import numpy as np\n",
    "import pandas as pd\n",
    "import matplotlib.pyplot as plt\n"
   ]
  },
  {
   "attachments": {},
   "cell_type": "markdown",
   "metadata": {},
   "source": [
    "Hier sollten wir relative paths verwenden, mache ich noch "
   ]
  },
  {
   "cell_type": "code",
   "execution_count": 73,
   "metadata": {},
   "outputs": [],
   "source": [
    "# Einlesen der Daten\n",
    "data_deng: pd.DataFrame = pd.read_csv(r\"C:\\Users\\sveam\\Documents\\MOBI 23\\Bioinfo\\BLAT_ECOLX_Deng_2012_Kopie.csv\", delimiter = ';' )\n",
    "data_firnberg = pd.read_csv(r\"C:\\Users\\sveam\\Documents\\MOBI 23\\Bioinfo\\BLAT_ECOLX_Firnberg_2014_Kopie.csv\",delimiter = ';')\n",
    "data_stiffler = pd.read_csv(r\"C:\\Users\\sveam\\Documents\\MOBI 23\\Bioinfo\\BLAT_ECOLX_Stiffler_2015_Kopie.csv\",delimiter = ';')\n"
   ]
  },
  {
   "attachments": {},
   "cell_type": "markdown",
   "metadata": {},
   "source": [
    "DMS Score Spalten zu float konvertieren:"
   ]
  },
  {
   "cell_type": "code",
   "execution_count": 74,
   "metadata": {},
   "outputs": [
    {
     "data": {
      "text/html": [
       "<div>\n",
       "<style scoped>\n",
       "    .dataframe tbody tr th:only-of-type {\n",
       "        vertical-align: middle;\n",
       "    }\n",
       "\n",
       "    .dataframe tbody tr th {\n",
       "        vertical-align: top;\n",
       "    }\n",
       "\n",
       "    .dataframe thead th {\n",
       "        text-align: right;\n",
       "    }\n",
       "</style>\n",
       "<table border=\"1\" class=\"dataframe\">\n",
       "  <thead>\n",
       "    <tr style=\"text-align: right;\">\n",
       "      <th></th>\n",
       "      <th>mutant</th>\n",
       "      <th>mutated_sequence</th>\n",
       "      <th>DMS_score</th>\n",
       "      <th>DMS_score_bin</th>\n",
       "    </tr>\n",
       "  </thead>\n",
       "  <tbody>\n",
       "    <tr>\n",
       "      <th>4778</th>\n",
       "      <td>W286G</td>\n",
       "      <td>MSIQHFRVALIPFFAAFCLPVFAHPETLVKVKDAEDQLGARVGYIE...</td>\n",
       "      <td>0.0056</td>\n",
       "      <td>0</td>\n",
       "    </tr>\n",
       "    <tr>\n",
       "      <th>4779</th>\n",
       "      <td>W286F</td>\n",
       "      <td>MSIQHFRVALIPFFAAFCLPVFAHPETLVKVKDAEDQLGARVGYIE...</td>\n",
       "      <td>0.1729</td>\n",
       "      <td>0</td>\n",
       "    </tr>\n",
       "    <tr>\n",
       "      <th>4780</th>\n",
       "      <td>W286E</td>\n",
       "      <td>MSIQHFRVALIPFFAAFCLPVFAHPETLVKVKDAEDQLGARVGYIE...</td>\n",
       "      <td>0.0171</td>\n",
       "      <td>0</td>\n",
       "    </tr>\n",
       "    <tr>\n",
       "      <th>4781</th>\n",
       "      <td>W286C</td>\n",
       "      <td>MSIQHFRVALIPFFAAFCLPVFAHPETLVKVKDAEDQLGARVGYIE...</td>\n",
       "      <td>0.0024</td>\n",
       "      <td>0</td>\n",
       "    </tr>\n",
       "    <tr>\n",
       "      <th>4782</th>\n",
       "      <td>W286D</td>\n",
       "      <td>MSIQHFRVALIPFFAAFCLPVFAHPETLVKVKDAEDQLGARVGYIE...</td>\n",
       "      <td>0.0114</td>\n",
       "      <td>0</td>\n",
       "    </tr>\n",
       "  </tbody>\n",
       "</table>\n",
       "</div>"
      ],
      "text/plain": [
       "     mutant                                   mutated_sequence  DMS_score  \\\n",
       "4778  W286G  MSIQHFRVALIPFFAAFCLPVFAHPETLVKVKDAEDQLGARVGYIE...     0.0056   \n",
       "4779  W286F  MSIQHFRVALIPFFAAFCLPVFAHPETLVKVKDAEDQLGARVGYIE...     0.1729   \n",
       "4780  W286E  MSIQHFRVALIPFFAAFCLPVFAHPETLVKVKDAEDQLGARVGYIE...     0.0171   \n",
       "4781  W286C  MSIQHFRVALIPFFAAFCLPVFAHPETLVKVKDAEDQLGARVGYIE...     0.0024   \n",
       "4782  W286D  MSIQHFRVALIPFFAAFCLPVFAHPETLVKVKDAEDQLGARVGYIE...     0.0114   \n",
       "\n",
       "      DMS_score_bin  \n",
       "4778              0  \n",
       "4779              0  \n",
       "4780              0  \n",
       "4781              0  \n",
       "4782              0  "
      ]
     },
     "execution_count": 74,
     "metadata": {},
     "output_type": "execute_result"
    }
   ],
   "source": [
    "data_deng['DMS_score'] = data_deng['DMS_score'].str.replace(',', '.').astype(float)\n",
    "data_deng.head()\n",
    "\n",
    "data_stiffler['DMS_score'] = data_stiffler['DMS_score'].str.replace(',', '.').astype(float)\n",
    "data_stiffler.head()\n",
    "\n",
    "data_firnberg['DMS_score'] = data_firnberg['DMS_score'].str.replace(',', '.').astype(float)\n",
    "data_firnberg.tail()\n",
    "\n"
   ]
  },
  {
   "cell_type": "code",
   "execution_count": 5,
   "metadata": {},
   "outputs": [],
   "source": [
    "\n",
    "#Mutanten in einheitlicher Reihenfolge speichern, gehen alle von 24 bis 286, bei Firnberg fehlen einige\n",
    "sortierung = data_deng.iloc[0:len(data_deng),0]\n",
    "sortierung.head()\n",
    "\n",
    "sortierung = sortierung.tolist()\n"
   ]
  },
  {
   "attachments": {},
   "cell_type": "markdown",
   "metadata": {},
   "source": [
    "Data Frame erstellen"
   ]
  },
  {
   "cell_type": "code",
   "execution_count": 6,
   "metadata": {},
   "outputs": [
    {
     "data": {
      "text/html": [
       "<div>\n",
       "<style scoped>\n",
       "    .dataframe tbody tr th:only-of-type {\n",
       "        vertical-align: middle;\n",
       "    }\n",
       "\n",
       "    .dataframe tbody tr th {\n",
       "        vertical-align: top;\n",
       "    }\n",
       "\n",
       "    .dataframe thead th {\n",
       "        text-align: right;\n",
       "    }\n",
       "</style>\n",
       "<table border=\"1\" class=\"dataframe\">\n",
       "  <thead>\n",
       "    <tr style=\"text-align: right;\">\n",
       "      <th></th>\n",
       "      <th>Stiffler</th>\n",
       "      <th>Deng</th>\n",
       "      <th>Firnberg</th>\n",
       "    </tr>\n",
       "  </thead>\n",
       "  <tbody>\n",
       "    <tr>\n",
       "      <th>H24C</th>\n",
       "      <td>NaN</td>\n",
       "      <td>NaN</td>\n",
       "      <td>NaN</td>\n",
       "    </tr>\n",
       "    <tr>\n",
       "      <th>H24Y</th>\n",
       "      <td>NaN</td>\n",
       "      <td>NaN</td>\n",
       "      <td>NaN</td>\n",
       "    </tr>\n",
       "    <tr>\n",
       "      <th>H24W</th>\n",
       "      <td>NaN</td>\n",
       "      <td>NaN</td>\n",
       "      <td>NaN</td>\n",
       "    </tr>\n",
       "    <tr>\n",
       "      <th>H24V</th>\n",
       "      <td>NaN</td>\n",
       "      <td>NaN</td>\n",
       "      <td>NaN</td>\n",
       "    </tr>\n",
       "    <tr>\n",
       "      <th>H24T</th>\n",
       "      <td>NaN</td>\n",
       "      <td>NaN</td>\n",
       "      <td>NaN</td>\n",
       "    </tr>\n",
       "  </tbody>\n",
       "</table>\n",
       "</div>"
      ],
      "text/plain": [
       "     Stiffler Deng Firnberg\n",
       "H24C      NaN  NaN      NaN\n",
       "H24Y      NaN  NaN      NaN\n",
       "H24W      NaN  NaN      NaN\n",
       "H24V      NaN  NaN      NaN\n",
       "H24T      NaN  NaN      NaN"
      ]
     },
     "execution_count": 6,
     "metadata": {},
     "output_type": "execute_result"
    }
   ],
   "source": [
    "\n",
    "columns = ['Stiffler', 'Deng', 'Firnberg']\n",
    "index = [sortierung]\n",
    "merged = pd.DataFrame( columns = columns, index = index)\n",
    "merged.head()\n",
    "#leerer frame"
   ]
  },
  {
   "cell_type": "code",
   "execution_count": 7,
   "metadata": {},
   "outputs": [
    {
     "data": {
      "text/html": [
       "<div>\n",
       "<style scoped>\n",
       "    .dataframe tbody tr th:only-of-type {\n",
       "        vertical-align: middle;\n",
       "    }\n",
       "\n",
       "    .dataframe tbody tr th {\n",
       "        vertical-align: top;\n",
       "    }\n",
       "\n",
       "    .dataframe thead th {\n",
       "        text-align: right;\n",
       "    }\n",
       "</style>\n",
       "<table border=\"1\" class=\"dataframe\">\n",
       "  <thead>\n",
       "    <tr style=\"text-align: right;\">\n",
       "      <th></th>\n",
       "      <th>Stiffler</th>\n",
       "      <th>Deng</th>\n",
       "      <th>Firnberg</th>\n",
       "    </tr>\n",
       "  </thead>\n",
       "  <tbody>\n",
       "    <tr>\n",
       "      <th>H24C</th>\n",
       "      <td>-0.41826</td>\n",
       "      <td>NaN</td>\n",
       "      <td>NaN</td>\n",
       "    </tr>\n",
       "    <tr>\n",
       "      <th>H24Y</th>\n",
       "      <td>-0.885025</td>\n",
       "      <td>NaN</td>\n",
       "      <td>NaN</td>\n",
       "    </tr>\n",
       "    <tr>\n",
       "      <th>H24W</th>\n",
       "      <td>-1.347586</td>\n",
       "      <td>NaN</td>\n",
       "      <td>NaN</td>\n",
       "    </tr>\n",
       "    <tr>\n",
       "      <th>H24V</th>\n",
       "      <td>-0.026874</td>\n",
       "      <td>NaN</td>\n",
       "      <td>NaN</td>\n",
       "    </tr>\n",
       "    <tr>\n",
       "      <th>H24T</th>\n",
       "      <td>-0.067188</td>\n",
       "      <td>NaN</td>\n",
       "      <td>NaN</td>\n",
       "    </tr>\n",
       "  </tbody>\n",
       "</table>\n",
       "</div>"
      ],
      "text/plain": [
       "      Stiffler Deng Firnberg\n",
       "H24C  -0.41826  NaN      NaN\n",
       "H24Y -0.885025  NaN      NaN\n",
       "H24W -1.347586  NaN      NaN\n",
       "H24V -0.026874  NaN      NaN\n",
       "H24T -0.067188  NaN      NaN"
      ]
     },
     "execution_count": 7,
     "metadata": {},
     "output_type": "execute_result"
    }
   ],
   "source": [
    "#dataframe füllen\n",
    "for i in range(0,len(data_stiffler)):\n",
    "    mutant = data_stiffler['mutant'][i]\n",
    "    score = data_stiffler['DMS_score'][i]\n",
    "    merged['Stiffler'][mutant]= score\n",
    "\n",
    "merged.head()\n",
    "\n",
    "  "
   ]
  },
  {
   "cell_type": "code",
   "execution_count": 8,
   "metadata": {},
   "outputs": [
    {
     "data": {
      "text/html": [
       "<div>\n",
       "<style scoped>\n",
       "    .dataframe tbody tr th:only-of-type {\n",
       "        vertical-align: middle;\n",
       "    }\n",
       "\n",
       "    .dataframe tbody tr th {\n",
       "        vertical-align: top;\n",
       "    }\n",
       "\n",
       "    .dataframe thead th {\n",
       "        text-align: right;\n",
       "    }\n",
       "</style>\n",
       "<table border=\"1\" class=\"dataframe\">\n",
       "  <thead>\n",
       "    <tr style=\"text-align: right;\">\n",
       "      <th></th>\n",
       "      <th>Stiffler</th>\n",
       "      <th>Deng</th>\n",
       "      <th>Firnberg</th>\n",
       "    </tr>\n",
       "  </thead>\n",
       "  <tbody>\n",
       "    <tr>\n",
       "      <th>H24C</th>\n",
       "      <td>-0.41826</td>\n",
       "      <td>3.924478</td>\n",
       "      <td>NaN</td>\n",
       "    </tr>\n",
       "    <tr>\n",
       "      <th>H24Y</th>\n",
       "      <td>-0.885025</td>\n",
       "      <td>2.170022</td>\n",
       "      <td>NaN</td>\n",
       "    </tr>\n",
       "    <tr>\n",
       "      <th>H24W</th>\n",
       "      <td>-1.347586</td>\n",
       "      <td>4.345218</td>\n",
       "      <td>NaN</td>\n",
       "    </tr>\n",
       "    <tr>\n",
       "      <th>H24V</th>\n",
       "      <td>-0.026874</td>\n",
       "      <td>3.011503</td>\n",
       "      <td>NaN</td>\n",
       "    </tr>\n",
       "    <tr>\n",
       "      <th>H24T</th>\n",
       "      <td>-0.067188</td>\n",
       "      <td>1.565248</td>\n",
       "      <td>NaN</td>\n",
       "    </tr>\n",
       "  </tbody>\n",
       "</table>\n",
       "</div>"
      ],
      "text/plain": [
       "      Stiffler      Deng Firnberg\n",
       "H24C  -0.41826  3.924478      NaN\n",
       "H24Y -0.885025  2.170022      NaN\n",
       "H24W -1.347586  4.345218      NaN\n",
       "H24V -0.026874  3.011503      NaN\n",
       "H24T -0.067188  1.565248      NaN"
      ]
     },
     "execution_count": 8,
     "metadata": {},
     "output_type": "execute_result"
    }
   ],
   "source": [
    "#deng wird umgedreht *-1\n",
    "for i in range(0,len(data_deng)):\n",
    "    mutant = data_deng['mutant'][i]\n",
    "    score = data_deng['DMS_score'][i]*-1\n",
    "    merged['Deng'][mutant]= score\n",
    "\n",
    "merged.head()"
   ]
  },
  {
   "cell_type": "code",
   "execution_count": 9,
   "metadata": {},
   "outputs": [
    {
     "name": "stdout",
     "output_type": "stream",
     "text": [
      "       Stiffler      Deng Firnberg\n",
      "H24C   -0.41826  3.924478   0.5646\n",
      "H24Y  -0.885025  2.170022   0.7054\n",
      "H24W  -1.347586  4.345218   0.6021\n",
      "H24V  -0.026874  3.011503   1.2224\n",
      "H24T  -0.067188  1.565248   1.2289\n",
      "...         ...       ...      ...\n",
      "W286G -3.228429   4.96307   0.0056\n",
      "W286F -0.780425  4.542329   0.1729\n",
      "W286E -2.545852  4.542329   0.0171\n",
      "W286C -2.983762  4.542329   0.0024\n",
      "W286A -3.178798   4.96307      NaN\n",
      "\n",
      "[4996 rows x 3 columns]\n"
     ]
    }
   ],
   "source": [
    "for i in range(0,len(data_firnberg)):\n",
    "    mutant = data_firnberg['mutant'][i]\n",
    "    score = data_firnberg['DMS_score'][i]\n",
    "    merged['Firnberg'][mutant]= score\n",
    "\n",
    "print(merged)"
   ]
  },
  {
   "attachments": {},
   "cell_type": "markdown",
   "metadata": {},
   "source": [
    "Merged Dataframe nicht Normalisiert"
   ]
  },
  {
   "cell_type": "code",
   "execution_count": 10,
   "metadata": {},
   "outputs": [
    {
     "name": "stdout",
     "output_type": "stream",
     "text": [
      "      Stiffler      Deng Firnberg\n",
      "H24C  -0.41826  3.924478   0.5646\n",
      "H24Y -0.885025  2.170022   0.7054\n",
      "H24W -1.347586  4.345218   0.6021\n",
      "H24V -0.026874  3.011503   1.2224\n",
      "H24T -0.067188  1.565248   1.2289\n",
      "H24S  0.036166  1.901829   1.1215\n",
      "H24R -0.002526  1.732651   1.0547\n",
      "H24Q -0.135568  1.685328   0.9294\n",
      "H24P -1.010848   2.74331   0.2836\n",
      "H24D -0.181607  2.788294   1.0992\n",
      "H24M -0.224781  4.345218      NaN\n",
      "H24L -0.480347  3.924478   0.8055\n",
      "H24K   0.01447   0.47765   1.2413\n",
      "H24I -0.359191   2.83688   0.7909\n",
      "H24G -0.060242  2.113703   1.1275\n",
      "H24F -0.818487  4.345218   0.7883\n",
      "H24E -0.279024  1.486533   0.9899\n",
      "H24N -0.043093  1.102421   1.4825\n",
      "P25C -0.364138   3.92495   0.6226\n",
      "P25D -0.028403   3.92495   0.6841\n"
     ]
    }
   ],
   "source": [
    "mergedc_n = merged.copy()\n",
    "mergedc_z = merged.copy()\n",
    "\n",
    "print(mergedc_n.head(20))"
   ]
  },
  {
   "attachments": {},
   "cell_type": "markdown",
   "metadata": {},
   "source": [
    "N Normalisierter dataframe :  merged_n"
   ]
  },
  {
   "cell_type": "code",
   "execution_count": 11,
   "metadata": {},
   "outputs": [
    {
     "name": "stdout",
     "output_type": "stream",
     "text": [
      "       Stiffler      Deng  Firnberg\n",
      "H24C   0.811164  0.749673  0.194307\n",
      "H24Y   0.697293  0.543632  0.242832\n",
      "H24W   0.584448  0.799085   0.20723\n",
      "H24V   0.906646  0.642454  0.421009\n",
      "H24T   0.896811  0.472607  0.423249\n",
      "...         ...       ...       ...\n",
      "W286G  0.125601  0.871645  0.001654\n",
      "W286F  0.722811  0.822233  0.059312\n",
      "W286E  0.292121  0.822233  0.005618\n",
      "W286C   0.18529  0.822233  0.000551\n",
      "W286A  0.137709  0.871645       NaN\n",
      "\n",
      "[4996 rows x 3 columns]\n"
     ]
    }
   ],
   "source": [
    "def min_max_filter(mergedc_n: pd.DataFrame) -> pd.DataFrame:\n",
    "    'Min-Max Normalisierung'\n",
    "    for x in mergedc_n.columns:\n",
    "        max_value: float = mergedc_n[x].max()\n",
    "        min_value: float = mergedc_n[x].min()\n",
    "\n",
    "        mergedc_n[x] = (mergedc_n[x] - min_value) / (max_value - min_value)\n",
    "    return mergedc_n\n",
    "print(min_max_filter(mergedc_n))\n"
   ]
  },
  {
   "attachments": {},
   "cell_type": "markdown",
   "metadata": {},
   "source": [
    "Z Normalisierter data frame: mergedc_z\n",
    "mü und sigma für Datensätze : "
   ]
  },
  {
   "cell_type": "code",
   "execution_count": 12,
   "metadata": {},
   "outputs": [
    {
     "name": "stdout",
     "output_type": "stream",
     "text": [
      "{'Stiffler': [-1.2555861699099258, 1.1515351455907572], 'Deng': [2.7197178679617875, 1.527209855765294], 'Firnberg': [0.5094850899205352, 0.44877201488038154]}\n"
     ]
    }
   ],
   "source": [
    "gauss = {'Stiffler':[],'Deng':[],'Firnberg':[]}\n",
    "\n",
    "for x in merged.columns:\n",
    "    mu = np.mean(merged[x])\n",
    "    sigma = np.std(merged[x])\n",
    "    \n",
    "    gauss[x] = [mu, sigma]\n",
    "print(gauss)\n",
    "\n"
   ]
  },
  {
   "attachments": {},
   "cell_type": "markdown",
   "metadata": {},
   "source": [
    "Z-Normalisierung"
   ]
  },
  {
   "cell_type": "code",
   "execution_count": 13,
   "metadata": {},
   "outputs": [
    {
     "name": "stdout",
     "output_type": "stream",
     "text": [
      "       Stiffler      Deng  Firnberg\n",
      "H24C   0.727139  0.788864  0.122813\n",
      "H24Y   0.321797 -0.359935  0.436558\n",
      "H24W  -0.079893  1.064359  0.206374\n",
      "H24V   1.067021  0.191058   1.58859\n",
      "H24T   1.032012 -0.755934  1.603074\n",
      "...         ...       ...       ...\n",
      "W286G -1.713229  1.468922 -1.122809\n",
      "W286F  0.412633  1.193425 -0.750014\n",
      "W286E -1.120475  1.193425 -1.097183\n",
      "W286C -1.500758  1.193425 -1.129939\n",
      "W286A -1.670129  1.468922       NaN\n",
      "\n",
      "[4996 rows x 3 columns]\n"
     ]
    }
   ],
   "source": [
    "def z_filter(mergedc_z: pd.DataFrame) -> pd.DataFrame:\n",
    "    'Z-Normalisierung'\n",
    "    for x in mergedc_z.columns:\n",
    "        mu = gauss[x][0]\n",
    "        sigma = gauss[x][1]\n",
    "        mergedc_z[x] = (mergedc_z[x]-mu)/ sigma\n",
    "    return mergedc_z\n",
    "print(z_filter(mergedc_z))\n"
   ]
  },
  {
   "attachments": {},
   "cell_type": "markdown",
   "metadata": {},
   "source": [
    "##Normalisierte Datensätze mergen:\n",
    "1. mean und var berechnen\n",
    "2. für z und n normalisierte Datensatz \n",
    "\n"
   ]
  },
  {
   "cell_type": "code",
   "execution_count": null,
   "metadata": {},
   "outputs": [],
   "source": [
    "mergedc_n_mv = mergedc_n.copy()\n",
    "liste = mergedc_n_mv.mean(axis = 1)\n",
    "print(liste)\n",
    "\n",
    "\n"
   ]
  },
  {
   "cell_type": "code",
   "execution_count": 42,
   "metadata": {},
   "outputs": [
    {
     "name": "stdout",
     "output_type": "stream",
     "text": [
      "       Stiffler      Deng  Firnberg      mean       var\n",
      "H24C   0.811164  0.749673  0.194307  0.585048  0.076970\n",
      "H24Y   0.697293  0.543632  0.242832  0.494585  0.035625\n",
      "H24W   0.584448  0.799085   0.20723  0.530254  0.059850\n",
      "H24V   0.906646  0.642454  0.421009  0.656703  0.039409\n",
      "H24T   0.896811  0.472607  0.423249  0.597556  0.045183\n",
      "...         ...       ...       ...       ...       ...\n",
      "W286G  0.125601  0.871645  0.001654  0.332967  0.147648\n",
      "W286F  0.722811  0.822233  0.059312  0.534785  0.114685\n",
      "W286E  0.292121  0.822233  0.005618  0.373324  0.114440\n",
      "W286C   0.18529  0.822233  0.000551  0.336025  0.123887\n",
      "W286A  0.137709  0.871645       NaN  0.504677  0.134665\n",
      "\n",
      "[4996 rows x 5 columns]\n"
     ]
    }
   ],
   "source": [
    "def mean_var_merge(data : pd.DataFrame):\n",
    "    \n",
    "    data['mean'] = data.mean(axis = 1, skipna= True)\n",
    "    data['var'] = data.var(axis = 1, skipna = True )\n",
    "    return data\n",
    "print(mean_var_merge(mergedc_n_mv))\n",
    "        "
   ]
  },
  {
   "cell_type": "code",
   "execution_count": 48,
   "metadata": {},
   "outputs": [
    {
     "name": "stdout",
     "output_type": "stream",
     "text": [
      "       Stiffler      Deng  Firnberg      mean       var\n",
      "H24C   0.727139  0.788864  0.122813  0.546272  0.090294\n",
      "H24Y   0.321797 -0.359935  0.436558  0.132807  0.123592\n",
      "H24W  -0.079893  1.064359  0.206374  0.396947  0.236378\n",
      "H24V   1.067021  0.191058   1.58859  0.948890  0.332494\n",
      "H24T   1.032012 -0.755934  1.603074  0.626384  1.009754\n",
      "...         ...       ...       ...       ...       ...\n",
      "W286G -1.713229  1.468922 -1.122809 -0.455705  1.910194\n",
      "W286F  0.412633  1.193425 -0.750014  0.285348  0.637593\n",
      "W286E -1.120475  1.193425 -1.097183 -0.341411  1.177952\n",
      "W286C -1.500758  1.193425 -1.129939 -0.479091  1.421573\n",
      "W286A -1.670129  1.468922       NaN -0.100603  2.463410\n",
      "\n",
      "[4996 rows x 5 columns]\n"
     ]
    }
   ],
   "source": [
    "mergedc_z_mv = mergedc_z.copy()\n",
    "\n",
    "print(mean_var_merge(mergedc_z_mv))\n"
   ]
  },
  {
   "attachments": {},
   "cell_type": "markdown",
   "metadata": {},
   "source": [
    "Wie namen eines Dataframe ausgeben lassen (Titel für plots) ? Weiß das jemand? stack overflow hat die gleiche frage unbeantwortet...."
   ]
  },
  {
   "attachments": {},
   "cell_type": "markdown",
   "metadata": {},
   "source": [
    "##Wie sehen unsere Verteilungen nach unterschiedlicher Normalisierung aus? \n",
    "1. Nebeneinander anzeigen lassen \n"
   ]
  },
  {
   "cell_type": "code",
   "execution_count": 60,
   "metadata": {},
   "outputs": [
    {
     "data": {
      "image/png": "[encoded data removed]",
      "text/plain": [
       "<Figure size 640x480 with 1 Axes>"
      ]
     },
     "metadata": {},
     "output_type": "display_data"
    }
   ],
   "source": [
    "\n",
    "#def plot_zn(data : pd.DataFrame):\n",
    "#     for x in range(4500, len(data):\n",
    "#         score = data['mean'][x]\n",
    "#         position = x\n",
    "#         plot_mean = plt.scatter(position, scores, s=20, c='blue')\n",
    "#     plt.xlabel('Position')\n",
    "#     plt.ylabel('Mean DMS-Score')\n",
    "#     plt.title('Mean DMS Scores für jeden Mutant')\n",
    "#     return plot_mean\n",
    "\n",
    "# plot_zn(mergedc_n_mv)\n",
    "# plt.show()\n",
    "\n",
    "for x in range(4000,len(mergedc_n_mv)):\n",
    "        score = mergedc_n_mv['mean'][x]\n",
    "        position = x\n",
    "        plot_mean = plt.scatter(position, score, s=20, c='blue')\n",
    "    # Diagramm anpassen\n",
    "plt.xlabel('Position')\n",
    "plt.ylabel('Mean DMS-Score')\n",
    "plt.title('Mean DMS Scores für jeden Mutant')     \n",
    "\n",
    "# Diagramm anzeigen\n",
    "plt.show()"
   ]
  },
  {
   "attachments": {},
   "cell_type": "markdown",
   "metadata": {},
   "source": [
    "\n",
    "Merged Model bilden\n",
    "Varianz Bilden\n",
    "\n",
    "Quantile Thresholding\n",
    "Otsu Thresholding\n",
    "Count Zahl (Tops, Bottoms) \n"
   ]
  },
  {
   "attachments": {},
   "cell_type": "markdown",
   "metadata": {},
   "source": [
    "data frame für merged [datensätze, mean, median,varianz]\n",
    "data ergebniss dataframemerged[mean positionseffekte, var positionseffekte]\n",
    "data frame einzelnd[mean positionseffekte, varianz positionseffekte]\n",
    "5 data frames"
   ]
  },
  {
   "cell_type": "code",
   "execution_count": null,
   "metadata": {},
   "outputs": [],
   "source": []
  }
 ],
 "metadata": {
  "kernelspec": {
   "display_name": "base",
   "language": "python",
   "name": "python3"
  },
  "language_info": {
   "codemirror_mode": {
    "name": "ipython",
    "version": 3
   },
   "file_extension": ".py",
   "mimetype": "text/x-python",
   "name": "python",
   "nbconvert_exporter": "python",
   "pygments_lexer": "ipython3",
   "version": "3.10.9"
  },
  "orig_nbformat": 4
 },
 "nbformat": 4,
 "nbformat_minor": 2
}
