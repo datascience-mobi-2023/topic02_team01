{
 "cells": [
  {
   "cell_type": "code",
   "execution_count": 2,
   "outputs": [],
   "source": [
    "import numpy as np\n",
    "import pandas as pd\n",
    "import matplotlib.pyplot as plt\n",
    "import seaborn as sns\n",
    "import scipy\n",
    "\n"
   ],
   "metadata": {
    "collapsed": false
   }
  },
  {
   "cell_type": "markdown",
   "source": [
    "Here, the different secondary structures are assigned to their respective amino acid sequences.\n",
    "Afterwards, in the DF structure_elements, it is defined whether a structure element belongs to domain 1 or 2.\n",
    "Source: DOI: 10.1107/S0907444994014496"
   ],
   "metadata": {
    "collapsed": false
   }
  },
  {
   "cell_type": "code",
   "execution_count": 3,
   "outputs": [
    {
     "data": {
      "text/plain": "   Element    Range Domain\n0       h1    27-40      1\n1       b1    43-50      1\n2       b2    56-60      1\n3       h2    72-85      2\n4      h3a   99-101      2\n5      h3b  109-114      2\n6       h4  119-128      2\n7       h5  132-142      2\n8       h6  145-154      2\n9       h7  168-170      2\n10      h8  183-195      1\n11      h9  201-212      2\n12     h10  221-224      1\n13      b3  230-237      1\n14      b4  244-251      1\n15      b5  259-266      1\n16     h11  272-288      1",
      "text/html": "<div>\n<style scoped>\n    .dataframe tbody tr th:only-of-type {\n        vertical-align: middle;\n    }\n\n    .dataframe tbody tr th {\n        vertical-align: top;\n    }\n\n    .dataframe thead th {\n        text-align: right;\n    }\n</style>\n<table border=\"1\" class=\"dataframe\">\n  <thead>\n    <tr style=\"text-align: right;\">\n      <th></th>\n      <th>Element</th>\n      <th>Range</th>\n      <th>Domain</th>\n    </tr>\n  </thead>\n  <tbody>\n    <tr>\n      <th>0</th>\n      <td>h1</td>\n      <td>27-40</td>\n      <td>1</td>\n    </tr>\n    <tr>\n      <th>1</th>\n      <td>b1</td>\n      <td>43-50</td>\n      <td>1</td>\n    </tr>\n    <tr>\n      <th>2</th>\n      <td>b2</td>\n      <td>56-60</td>\n      <td>1</td>\n    </tr>\n    <tr>\n      <th>3</th>\n      <td>h2</td>\n      <td>72-85</td>\n      <td>2</td>\n    </tr>\n    <tr>\n      <th>4</th>\n      <td>h3a</td>\n      <td>99-101</td>\n      <td>2</td>\n    </tr>\n    <tr>\n      <th>5</th>\n      <td>h3b</td>\n      <td>109-114</td>\n      <td>2</td>\n    </tr>\n    <tr>\n      <th>6</th>\n      <td>h4</td>\n      <td>119-128</td>\n      <td>2</td>\n    </tr>\n    <tr>\n      <th>7</th>\n      <td>h5</td>\n      <td>132-142</td>\n      <td>2</td>\n    </tr>\n    <tr>\n      <th>8</th>\n      <td>h6</td>\n      <td>145-154</td>\n      <td>2</td>\n    </tr>\n    <tr>\n      <th>9</th>\n      <td>h7</td>\n      <td>168-170</td>\n      <td>2</td>\n    </tr>\n    <tr>\n      <th>10</th>\n      <td>h8</td>\n      <td>183-195</td>\n      <td>1</td>\n    </tr>\n    <tr>\n      <th>11</th>\n      <td>h9</td>\n      <td>201-212</td>\n      <td>2</td>\n    </tr>\n    <tr>\n      <th>12</th>\n      <td>h10</td>\n      <td>221-224</td>\n      <td>1</td>\n    </tr>\n    <tr>\n      <th>13</th>\n      <td>b3</td>\n      <td>230-237</td>\n      <td>1</td>\n    </tr>\n    <tr>\n      <th>14</th>\n      <td>b4</td>\n      <td>244-251</td>\n      <td>1</td>\n    </tr>\n    <tr>\n      <th>15</th>\n      <td>b5</td>\n      <td>259-266</td>\n      <td>1</td>\n    </tr>\n    <tr>\n      <th>16</th>\n      <td>h11</td>\n      <td>272-288</td>\n      <td>1</td>\n    </tr>\n  </tbody>\n</table>\n</div>"
     },
     "execution_count": 3,
     "metadata": {},
     "output_type": "execute_result"
    }
   ],
   "source": [
    "structure_sequence_allignment = {\n",
    "    'Element': ['h1', 'b1', 'b2', 'h2', 'h3a', 'h3b', 'h4', 'h5', 'h6', 'h7', 'h8', 'h9', 'h10', 'b3', 'b4', 'b5', 'h11'],\n",
    "    'Range': ['27-40', '43-50', '56-60', '72-85', '99-101', '109-114', '119-128', '132-142', '145-154', '168-170',\n",
    "              '183-195', '201-212', '221-224', '230-237', '244-251', '259-266', '272-288']\n",
    "}\n",
    "\n",
    "domain1_elements = ['h1', 'b1', 'b2', 'h8', 'h10', 'b3', 'b4', 'b5', 'h11']\n",
    "structural_elements = pd.DataFrame(structure_sequence_allignment)\n",
    "structural_elements[\"Domain\"] = None\n",
    "\n",
    "# Assigning domain numbers to structure elements\n",
    "for i in range(len(structural_elements[\"Element\"])):\n",
    "    if structural_elements.iloc[i, 0] in domain1_elements:\n",
    "        structural_elements.iloc[i, 2] = 1\n",
    "    else:\n",
    "        structural_elements.iloc[i, 2] = 2\n",
    "\n",
    "structural_elements"
   ],
   "metadata": {
    "collapsed": false
   }
  },
  {
   "cell_type": "markdown",
   "source": [
    "Each position is assigned to its respective structure elements and domains of the structural_elements DataFrame.\n",
    "For each row in the structural_elements DataFrame, the range values from the Range column are split into two numbers using the \"map\" command and separated by \"-\". These values are then stored as integers.\n",
    "This allows to store the range information.\n",
    "Next, all positions from position_elements_alignment that fall within the range of each element are labeled with that element in the \"Element\" column.\n",
    "Afterwards, it is checked whether this element is part of domain 1. If it is, all corresponding rows in the \"Domain\" column are assigned a value of 1. If it is not, they are assigned a value of 2."
   ],
   "metadata": {
    "collapsed": false
   }
  },
  {
   "cell_type": "code",
   "execution_count": 7,
   "outputs": [
    {
     "data": {
      "text/plain": "         Structural_Element Domain\nPosition                          \n24                     None   None\n25                     None   None\n26                     None   None\n27                       h1      1\n28                       h1      1\n...                     ...    ...\n264                      b5      1\n265                      b5      1\n266                      b5      1\n267                    None   None\n268                    None   None\n\n[245 rows x 2 columns]",
      "text/html": "<div>\n<style scoped>\n    .dataframe tbody tr th:only-of-type {\n        vertical-align: middle;\n    }\n\n    .dataframe tbody tr th {\n        vertical-align: top;\n    }\n\n    .dataframe thead th {\n        text-align: right;\n    }\n</style>\n<table border=\"1\" class=\"dataframe\">\n  <thead>\n    <tr style=\"text-align: right;\">\n      <th></th>\n      <th>Structural_Element</th>\n      <th>Domain</th>\n    </tr>\n    <tr>\n      <th>Position</th>\n      <th></th>\n      <th></th>\n    </tr>\n  </thead>\n  <tbody>\n    <tr>\n      <th>24</th>\n      <td>None</td>\n      <td>None</td>\n    </tr>\n    <tr>\n      <th>25</th>\n      <td>None</td>\n      <td>None</td>\n    </tr>\n    <tr>\n      <th>26</th>\n      <td>None</td>\n      <td>None</td>\n    </tr>\n    <tr>\n      <th>27</th>\n      <td>h1</td>\n      <td>1</td>\n    </tr>\n    <tr>\n      <th>28</th>\n      <td>h1</td>\n      <td>1</td>\n    </tr>\n    <tr>\n      <th>...</th>\n      <td>...</td>\n      <td>...</td>\n    </tr>\n    <tr>\n      <th>264</th>\n      <td>b5</td>\n      <td>1</td>\n    </tr>\n    <tr>\n      <th>265</th>\n      <td>b5</td>\n      <td>1</td>\n    </tr>\n    <tr>\n      <th>266</th>\n      <td>b5</td>\n      <td>1</td>\n    </tr>\n    <tr>\n      <th>267</th>\n      <td>None</td>\n      <td>None</td>\n    </tr>\n    <tr>\n      <th>268</th>\n      <td>None</td>\n      <td>None</td>\n    </tr>\n  </tbody>\n</table>\n<p>245 rows × 2 columns</p>\n</div>"
     },
     "execution_count": 7,
     "metadata": {},
     "output_type": "execute_result"
    }
   ],
   "source": [
    "# Create the DataFrame for positions\n",
    "position_elements_alignment = pd.DataFrame({'Position': range(24, 269)})\n",
    "\n",
    "# Create columns for Structural Element and Domain\n",
    "position_elements_alignment['Structural_Element'] = None\n",
    "position_elements_alignment['Domain'] = None\n",
    "\n",
    "# Iterate over the ranges in the structural_elements DataFrame\n",
    "for index, row in structural_elements.iterrows():\n",
    "    start, end = (int, row['Range'].split('-'))\n",
    "\n",
    "    # Assign the values for the corresponding positions in the position_elements_alignment DataFrame\n",
    "    position_elements_alignment.loc[(position_elements_alignment['Position'] >= start) & (position_elements_alignment['Position'] <= end), 'Structural_Element'] = row['Element']\n",
    "\n",
    "    # Check if the element belongs to domain 1 and assign the Domain accordingly\n",
    "    if row['Element'] in domain1_elements:\n",
    "        position_elements_alignment.loc[(position_elements_alignment['Position'] >= start) & (position_elements_alignment['Position'] <= end), 'Domain'] = 1\n",
    "    else:\n",
    "        position_elements_alignment.loc[(position_elements_alignment['Position'] >= start) & (position_elements_alignment['Position'] <= end), 'Domain'] = 2\n",
    "\n",
    "# Now, use the Position column as the index. To avoid having duplicate columns with position information, drop the \"Position\" column while keeping the index column with the same name.\n",
    "position_elements_alignment = position_elements_alignment.set_index('Position', drop=False)\n",
    "position_elements_alignment = position_elements_alignment.drop(\"Position\", axis=1)"
   ],
   "metadata": {
    "collapsed": false
   }
  },
  {
   "cell_type": "markdown",
   "source": [
    "From this point, the position-effekt and structural element analysis is performed, based on the mean fitness values.\n",
    "To do this, the DataFrame \"mean_analysis\" is created as a copy of the mean values that have been z-scored.\n",
    "Additionally, each position is assigned its corresponding domain and structural element based on the position_elements_alignment DataFrame.\n",
    "\n",
    "WICHTIG: Funktioniert nur, wenn position_means_Z vorher definiert wurde."
   ],
   "metadata": {
    "collapsed": false
   }
  },
  {
   "cell_type": "code",
   "execution_count": null,
   "outputs": [],
   "source": [
    "mean_analyse = position_means_Z.copy()\n",
    "mean_analyse.insert(0, \"Structual_Element\", position_elements_alignment.loc[: , \"Structural_Element\"])\n",
    "mean_analyse.insert(1, \"Domain\", position_elements_alignment.loc[: , \"Domain\"])\n",
    "mean_analyse"
   ],
   "metadata": {
    "collapsed": false
   }
  },
  {
   "cell_type": "markdown",
   "source": [
    "For the analysis of whether there is a relationship between fitness values and structural elements, the variance of the mean values for all positions within a structural element is calculated. This is done individually for all datasets and also for the mean of the datasets (\"all_Varianz\").\n",
    "\n",
    "The variance within a structural element is compared to the variance across all positions. If the variance within the structural element is lower than the variance across all positions, it indicates a relationship between fitness and the structural element."
   ],
   "metadata": {
    "collapsed": false
   }
  },
  {
   "cell_type": "code",
   "execution_count": null,
   "outputs": [],
   "source": [
    "for index, row in structural_elements.iterrows():\n",
    "    start, end = map(int, row['Range'].split('-'))\n",
    "    for column in [\"Stiffler\", \"Firnberg\", \"Deng\", \"all\"]:\n",
    "        varianz = mean_analyse.loc[start:end, f\"mean_{column}_z\"].var()\n",
    "        structural_elements.at[index, f\"{column}_Varianz\"] = varianz\n",
    "\n",
    "structural_elements"
   ],
   "metadata": {
    "collapsed": false
   }
  },
  {
   "cell_type": "markdown",
   "source": [
    "Here, the variance across all positions is displayed.\n",
    "\n",
    "However, it is weird that the variance is not 1, as the fitness values were been z-normalized.\n",
    "--> For most structural elements, the variance within the structural element is lower than the variance across all positions.\n",
    "--> There is a relationship between the structural element and fitness."
   ],
   "metadata": {
    "collapsed": false
   }
  },
  {
   "cell_type": "code",
   "execution_count": null,
   "outputs": [],
   "source": [
    "# Variance column names\n",
    "variance_columns = ['Stiffler', 'Firnberg', 'Deng', 'all']\n",
    "\n",
    "# Create an empty DataFrame\n",
    "data_variance = pd.DataFrame(columns=variance_columns)\n",
    "\n",
    "# Calculate variance values and insert them into the row\n",
    "variance_values = []\n",
    "for column in variance_columns:\n",
    "    variance = mean_analyse[f\"mean_{column}_z\"].var()\n",
    "    variance_values.append(variance)\n",
    "\n",
    "data_variance.loc[0] = variance_values\n",
    "\n",
    "data_variance\n"
   ],
   "metadata": {
    "collapsed": false
   }
  }
 ],
 "metadata": {
  "kernelspec": {
   "display_name": "Python 3",
   "language": "python",
   "name": "python3"
  },
  "language_info": {
   "codemirror_mode": {
    "name": "ipython",
    "version": 2
   },
   "file_extension": ".py",
   "mimetype": "text/x-python",
   "name": "python",
   "nbconvert_exporter": "python",
   "pygments_lexer": "ipython2",
   "version": "2.7.6"
  }
 },
 "nbformat": 4,
 "nbformat_minor": 0
}
